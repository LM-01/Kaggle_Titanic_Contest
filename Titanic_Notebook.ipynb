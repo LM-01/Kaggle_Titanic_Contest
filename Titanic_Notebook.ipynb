{
 "cells": [
  {
   "cell_type": "markdown",
   "id": "fc477c63",
   "metadata": {},
   "source": [
    "## Titanic Kaggle Contest\n",
    "\n",
    "Predict if passengers will survive"
   ]
  },
  {
   "cell_type": "markdown",
   "id": "7597053d",
   "metadata": {},
   "source": [
    "### Steps\n",
    "1. Import data\n",
    "2. Clean Data\n",
    "3. Analyze / Feature engineer\n",
    "4. Test Models\n",
    "5. Improve model with random search\n",
    "6. Predict using test dataset"
   ]
  },
  {
   "cell_type": "code",
   "execution_count": null,
   "id": "2104cb9f",
   "metadata": {},
   "outputs": [],
   "source": []
  }
 ],
 "metadata": {
  "kernelspec": {
   "display_name": "Python 3.8.5 32-bit",
   "language": "python",
   "name": "python38532bit220d362832c84fedb664a2d6c724cc7c"
  }
 },
 "nbformat": 4,
 "nbformat_minor": 5
}
